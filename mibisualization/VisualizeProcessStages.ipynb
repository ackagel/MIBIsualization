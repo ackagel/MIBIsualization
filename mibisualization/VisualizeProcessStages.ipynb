{
 "cells": [
  {
   "cell_type": "markdown",
   "metadata": {},
   "source": [
    "# Visualize Processing Stages\n",
    "\n",
    "Notebook to plot multiple mass channels at different stages of low-level processing for each point in each given slide.\n",
    "\n",
    "Accepted format for images: IonPath's __MIBITiff__ format from MIBI/O or MIBITracker\n",
    "\n",
    "Please update the __input parameters__ as needed"
   ]
  },
  {
   "cell_type": "markdown",
   "metadata": {},
   "source": [
    "## load headers"
   ]
  },
  {
   "cell_type": "code",
   "execution_count": 114,
   "metadata": {},
   "outputs": [
    {
     "name": "stdout",
     "output_type": "stream",
     "text": [
      "The autoreload extension is already loaded. To reload it, use:\n",
      "  %reload_ext autoreload\n"
     ]
    },
    {
     "data": {
      "text/html": [
       "<style>.container { width:100% !important; }</style>"
      ],
      "text/plain": [
       "<IPython.core.display.HTML object>"
      ]
     },
     "metadata": {},
     "output_type": "display_data"
    }
   ],
   "source": [
    "# magic commands\n",
    "%matplotlib notebook\n",
    "%load_ext autoreload\n",
    "%autoreload 2\n",
    "\n",
    "#imports\n",
    "from IPython.core.display import display, HTML\n",
    "display(HTML(\"<style>.container { width:100% !important; }</style>\"))\n",
    "\n",
    "import pathlib\n",
    "import glob\n",
    "import re\n",
    "\n",
    "import pandas as pd\n",
    "import matplotlib.pyplot as plt\n",
    "import matplotlib.gridspec as gridspec\n",
    "\n",
    "from mibidata import mibi_image as mi, tiff\n",
    "import visualize_data as viz"
   ]
  },
  {
   "cell_type": "markdown",
   "metadata": {},
   "source": [
    "## input parameters"
   ]
  },
  {
   "cell_type": "code",
   "execution_count": 115,
   "metadata": {},
   "outputs": [],
   "source": [
    "data_path = pathlib.Path('/Volumes/DISK_IMG/')\n",
    "save_path = pathlib.Path('/Users/adam_kagel/Desktop/comp/')\n",
    "\n",
    "mass_channels = [89, 113, 146, 158, 175, 176, 115]\n",
    "bg_channel = 197\n",
    "\n",
    "# Anonymized by default currently\n",
    "# TODO: Read panel if anonymize is false, and use target names\n",
    "#anonymize_targets = True\n",
    "#panel_path = data_path.joinpath('Panel54_MelanomaCohort_2.csv')\n",
    "\n",
    "slide_foldernames = [\n",
    "    '191204_CohortSlide9_S14-47859-A2-S14-20352-A8',\n",
    "    '191205_CohortSlide7_S146936A2_G1471023A1_run',\n",
    "    '191206_CohortSlide11_TMA443_run',\n",
    "    '191211_CohortSlide10_S158066A1_SP153393_G1675892_run'\n",
    "]\n",
    "\n",
    "# leave empty to use full slide name\n",
    "slide_names = [\n",
    "    'S9',\n",
    "    'S7',\n",
    "    'S11',\n",
    "    'S10'\n",
    "]\n",
    "\n",
    "process_folder_prefix = ''\n",
    "process_folder_suffix = '_TIFF'\n",
    "\n",
    "raw_tiff_folder_name = 'bg_none'\n",
    "proccessed_tiff_folder_name = 'bg_au_050_ta_020'\n",
    "\n",
    "# process 'prefix' is PointN\n",
    "process_suffix = '_RowNumber0_Depth_Profile0'\n",
    "isobar_suffix = '-MassCorrected'\n",
    "denoise_suffix = '-Filtered'\n",
    "\n",
    "# Show only given mass channels\n",
    "#show_raw = mass_channels\n",
    "#show_bg_cor = mass_channels\n",
    "#show_iso = [115]\n",
    "#show_filter = mass_channels"
   ]
  },
  {
   "cell_type": "markdown",
   "metadata": {},
   "source": [
    "## plot images"
   ]
  },
  {
   "cell_type": "code",
   "execution_count": 116,
   "metadata": {},
   "outputs": [
    {
     "name": "stdout",
     "output_type": "stream",
     "text": [
      "counts: 2841038.0\n",
      "counts: 2834685.0\n",
      "counts: 2648055.0\n",
      "counts: 1074661.0\n",
      "counts: 520826.0\n",
      "counts: 516423.0\n",
      "counts: 288624.0\n",
      "counts: 1074661.0\n",
      "counts: 26552.0\n",
      "counts: 26168.0\n",
      "counts: 739.0\n",
      "counts: 1074661.0\n",
      "counts: 57739.0\n",
      "counts: 57075.0\n",
      "counts: 16748.0\n",
      "counts: 1074661.0\n",
      "counts: 237504.0\n",
      "counts: 233352.0\n",
      "counts: 132585.0\n",
      "counts: 1074661.0\n",
      "counts: 332107.0\n",
      "counts: 327302.0\n",
      "counts: 197539.0\n",
      "counts: 1074661.0\n",
      "counts: 417951.0\n",
      "counts: 408765.0\n",
      "counts: 405650.0\n",
      "counts: 215459.0\n",
      "counts: 1074661.0\n"
     ]
    },
    {
     "name": "stderr",
     "output_type": "stream",
     "text": [
      "/usr/local/anaconda3/envs/mibisualization/lib/python3.7/site-packages/mibidata/mibi_image.py:423: UserWarning: The \"fov_id\" attribute is required if \"folder\" is specified. Setting \"fov_id\" to Point4.\n",
      "  f'The \"{field_name}\" attribute is required if \"{value_name}\" '\n",
      "/usr/local/anaconda3/envs/mibisualization/lib/python3.7/site-packages/mibidata/mibi_image.py:423: UserWarning: The \"folder\" attribute is required if \"fov_id\" is specified. Setting \"folder\" to Point4.\n",
      "  f'The \"{field_name}\" attribute is required if \"{value_name}\" '\n"
     ]
    },
    {
     "name": "stdout",
     "output_type": "stream",
     "text": [
      "counts: 49537.0\n",
      "counts: 49537.0\n"
     ]
    },
    {
     "name": "stderr",
     "output_type": "stream",
     "text": [
      "/usr/local/anaconda3/envs/mibisualization/lib/python3.7/site-packages/mibidata/mibi_image.py:423: UserWarning: The \"fov_id\" attribute is required if \"folder\" is specified. Setting \"fov_id\" to Point4-MassCorrected-Filtered.\n",
      "  f'The \"{field_name}\" attribute is required if \"{value_name}\" '\n",
      "/usr/local/anaconda3/envs/mibisualization/lib/python3.7/site-packages/mibidata/mibi_image.py:423: UserWarning: The \"folder\" attribute is required if \"fov_id\" is specified. Setting \"folder\" to Point4-MassCorrected-Filtered.\n",
      "  f'The \"{field_name}\" attribute is required if \"{value_name}\" '\n"
     ]
    },
    {
     "name": "stdout",
     "output_type": "stream",
     "text": [
      "counts: 42471.0\n",
      "counts: 560.0\n",
      "counts: 7588.0\n",
      "counts: 7588.0\n",
      "counts: 2299.0\n",
      "counts: 560.0\n",
      "counts: 396.0\n",
      "counts: 396.0\n",
      "counts: 153.0\n",
      "counts: 560.0\n",
      "counts: 1425.0\n",
      "counts: 1425.0\n",
      "counts: 786.0\n",
      "counts: 560.0\n",
      "counts: 4329.0\n",
      "counts: 4329.0\n",
      "counts: 1678.0\n",
      "counts: 560.0\n",
      "counts: 6214.0\n",
      "counts: 6214.0\n",
      "counts: 2526.0\n",
      "counts: 560.0\n",
      "counts: 3231.0\n",
      "counts: 3231.0\n"
     ]
    },
    {
     "name": "stderr",
     "output_type": "stream",
     "text": [
      "/usr/local/anaconda3/envs/mibisualization/lib/python3.7/site-packages/mibidata/mibi_image.py:423: UserWarning: The \"fov_id\" attribute is required if \"folder\" is specified. Setting \"fov_id\" to Point4-MassCorrected.\n",
      "  f'The \"{field_name}\" attribute is required if \"{value_name}\" '\n",
      "/usr/local/anaconda3/envs/mibisualization/lib/python3.7/site-packages/mibidata/mibi_image.py:423: UserWarning: The \"folder\" attribute is required if \"fov_id\" is specified. Setting \"folder\" to Point4-MassCorrected.\n",
      "  f'The \"{field_name}\" attribute is required if \"{value_name}\" '\n"
     ]
    },
    {
     "name": "stdout",
     "output_type": "stream",
     "text": [
      "counts: 3230.0\n",
      "counts: 3035.0\n",
      "counts: 560.0\n"
     ]
    },
    {
     "name": "stderr",
     "output_type": "stream",
     "text": [
      "/usr/local/anaconda3/envs/mibisualization/lib/python3.7/site-packages/mibidata/mibi_image.py:423: UserWarning: The \"fov_id\" attribute is required if \"folder\" is specified. Setting \"fov_id\" to Point40.\n",
      "  f'The \"{field_name}\" attribute is required if \"{value_name}\" '\n",
      "/usr/local/anaconda3/envs/mibisualization/lib/python3.7/site-packages/mibidata/mibi_image.py:423: UserWarning: The \"folder\" attribute is required if \"fov_id\" is specified. Setting \"folder\" to Point40.\n",
      "  f'The \"{field_name}\" attribute is required if \"{value_name}\" '\n"
     ]
    },
    {
     "name": "stdout",
     "output_type": "stream",
     "text": [
      "counts: 2638893.0\n",
      "counts: 2602829.0\n"
     ]
    },
    {
     "name": "stderr",
     "output_type": "stream",
     "text": [
      "/usr/local/anaconda3/envs/mibisualization/lib/python3.7/site-packages/mibidata/mibi_image.py:423: UserWarning: The \"fov_id\" attribute is required if \"folder\" is specified. Setting \"fov_id\" to Point40-MassCorrected-Filtered.\n",
      "  f'The \"{field_name}\" attribute is required if \"{value_name}\" '\n",
      "/usr/local/anaconda3/envs/mibisualization/lib/python3.7/site-packages/mibidata/mibi_image.py:423: UserWarning: The \"folder\" attribute is required if \"fov_id\" is specified. Setting \"folder\" to Point40-MassCorrected-Filtered.\n",
      "  f'The \"{field_name}\" attribute is required if \"{value_name}\" '\n"
     ]
    },
    {
     "name": "stdout",
     "output_type": "stream",
     "text": [
      "counts: 2453188.0\n",
      "counts: 7742044.0\n",
      "counts: 395947.0\n",
      "counts: 375258.0\n",
      "counts: 274214.0\n",
      "counts: 7742044.0\n",
      "counts: 20798.0\n",
      "counts: 17542.0\n",
      "counts: 4288.0\n",
      "counts: 7742044.0\n",
      "counts: 41037.0\n",
      "counts: 38232.0\n",
      "counts: 22736.0\n",
      "counts: 7742044.0\n",
      "counts: 987028.0\n",
      "counts: 966598.0\n",
      "counts: 870058.0\n",
      "counts: 7742044.0\n",
      "counts: 271354.0\n",
      "counts: 254610.0\n",
      "counts: 169244.0\n",
      "counts: 7742044.0\n",
      "counts: 615029.0\n",
      "counts: 534856.0\n"
     ]
    },
    {
     "name": "stderr",
     "output_type": "stream",
     "text": [
      "/usr/local/anaconda3/envs/mibisualization/lib/python3.7/site-packages/mibidata/mibi_image.py:423: UserWarning: The \"fov_id\" attribute is required if \"folder\" is specified. Setting \"fov_id\" to Point40-MassCorrected.\n",
      "  f'The \"{field_name}\" attribute is required if \"{value_name}\" '\n",
      "/usr/local/anaconda3/envs/mibisualization/lib/python3.7/site-packages/mibidata/mibi_image.py:423: UserWarning: The \"folder\" attribute is required if \"fov_id\" is specified. Setting \"folder\" to Point40-MassCorrected.\n",
      "  f'The \"{field_name}\" attribute is required if \"{value_name}\" '\n"
     ]
    },
    {
     "name": "stdout",
     "output_type": "stream",
     "text": [
      "counts: 513422.0\n",
      "counts: 296886.0\n",
      "counts: 7742044.0\n"
     ]
    },
    {
     "name": "stderr",
     "output_type": "stream",
     "text": [
      "/usr/local/anaconda3/envs/mibisualization/lib/python3.7/site-packages/mibidata/mibi_image.py:423: UserWarning: The \"fov_id\" attribute is required if \"folder\" is specified. Setting \"fov_id\" to Point3.\n",
      "  f'The \"{field_name}\" attribute is required if \"{value_name}\" '\n",
      "/usr/local/anaconda3/envs/mibisualization/lib/python3.7/site-packages/mibidata/mibi_image.py:423: UserWarning: The \"folder\" attribute is required if \"fov_id\" is specified. Setting \"folder\" to Point3.\n",
      "  f'The \"{field_name}\" attribute is required if \"{value_name}\" '\n"
     ]
    },
    {
     "name": "stdout",
     "output_type": "stream",
     "text": [
      "counts: 1515949.0\n",
      "counts: 1448546.0\n"
     ]
    },
    {
     "name": "stderr",
     "output_type": "stream",
     "text": [
      "/usr/local/anaconda3/envs/mibisualization/lib/python3.7/site-packages/mibidata/mibi_image.py:423: UserWarning: The \"fov_id\" attribute is required if \"folder\" is specified. Setting \"fov_id\" to Point3-MassCorrected-Filtered.\n",
      "  f'The \"{field_name}\" attribute is required if \"{value_name}\" '\n",
      "/usr/local/anaconda3/envs/mibisualization/lib/python3.7/site-packages/mibidata/mibi_image.py:423: UserWarning: The \"folder\" attribute is required if \"fov_id\" is specified. Setting \"folder\" to Point3-MassCorrected-Filtered.\n",
      "  f'The \"{field_name}\" attribute is required if \"{value_name}\" '\n"
     ]
    },
    {
     "name": "stdout",
     "output_type": "stream",
     "text": [
      "counts: 1340013.0\n",
      "counts: 22210016.0\n",
      "counts: 580260.0\n",
      "counts: 510302.0\n",
      "counts: 412406.0\n",
      "counts: 22210016.0\n",
      "counts: 29118.0\n",
      "counts: 17501.0\n",
      "counts: 7378.0\n",
      "counts: 22210016.0\n",
      "counts: 56697.0\n",
      "counts: 44722.0\n",
      "counts: 28769.0\n",
      "counts: 22210016.0\n",
      "counts: 854331.0\n",
      "counts: 771915.0\n",
      "counts: 698766.0\n",
      "counts: 22210016.0\n",
      "counts: 181034.0\n",
      "counts: 154044.0\n",
      "counts: 112361.0\n",
      "counts: 22210016.0\n",
      "counts: 420378.0\n",
      "counts: 252987.0\n"
     ]
    },
    {
     "name": "stderr",
     "output_type": "stream",
     "text": [
      "/usr/local/anaconda3/envs/mibisualization/lib/python3.7/site-packages/mibidata/mibi_image.py:423: UserWarning: The \"fov_id\" attribute is required if \"folder\" is specified. Setting \"fov_id\" to Point3-MassCorrected.\n",
      "  f'The \"{field_name}\" attribute is required if \"{value_name}\" '\n",
      "/usr/local/anaconda3/envs/mibisualization/lib/python3.7/site-packages/mibidata/mibi_image.py:423: UserWarning: The \"folder\" attribute is required if \"fov_id\" is specified. Setting \"folder\" to Point3-MassCorrected.\n",
      "  f'The \"{field_name}\" attribute is required if \"{value_name}\" '\n"
     ]
    },
    {
     "name": "stdout",
     "output_type": "stream",
     "text": [
      "counts: 190737.0\n",
      "counts: 120808.0\n",
      "counts: 22210016.0\n",
      "counts: 6125746.0\n",
      "counts: 6113202.0\n",
      "counts: 5888075.0\n",
      "counts: 2286850.0\n",
      "counts: 1082579.0\n",
      "counts: 1072046.0\n",
      "counts: 898626.0\n",
      "counts: 2286850.0\n",
      "counts: 47010.0\n",
      "counts: 44751.0\n",
      "counts: 978.0\n",
      "counts: 2286850.0\n",
      "counts: 61329.0\n",
      "counts: 59478.0\n",
      "counts: 4862.0\n",
      "counts: 2286850.0\n",
      "counts: 1903653.0\n",
      "counts: 1893808.0\n",
      "counts: 1725562.0\n",
      "counts: 2286850.0\n",
      "counts: 1059727.0\n",
      "counts: 1040935.0\n",
      "counts: 870472.0\n",
      "counts: 2286850.0\n",
      "counts: 626108.0\n",
      "counts: 598944.0\n",
      "counts: 592506.0\n",
      "counts: 387621.0\n",
      "counts: 2286850.0\n"
     ]
    }
   ],
   "source": [
    "plt.ioff()\n",
    "plt.style.use('dark_background')\n",
    "\n",
    "def plot_text(ax,text,fontsize):\n",
    "    ax.text(0.5,0.5,text,verticalalignment='center',horizontalalignment='center',transform=ax.transAxes, color='yellow', fontsize=fontsize)\n",
    "    ax.set_frame_on(False)\n",
    "    ax.xaxis.set_visible(False)\n",
    "    ax.yaxis.set_visible(False)\n",
    "\n",
    "def make_fig(tiffs,slide,point,channel,titles):\n",
    "    ncols = len(tiffs)+1\n",
    "    \n",
    "    plt.subplots_adjust(hspace=0.0,wspace=0.0)\n",
    "    wr = [1] + ([3] * (ncols-1))\n",
    "    gs = gridspec.GridSpec(3,ncols,height_ratios = [1,3,3],width_ratios=wr, hspace=0)\n",
    "    \n",
    "    # TODO: too many if/elif/else's\n",
    "    for n, cell in enumerate(gs):\n",
    "        ax = plt.subplot(cell)\n",
    "        if n//ncols == 0:\n",
    "            plot_text(ax,titles[n],14)\n",
    "        elif n//ncols == 1:\n",
    "            if n%ncols ==0:\n",
    "                plot_text(ax,str(channel),14)\n",
    "            else:\n",
    "                image = tiff.read(str(tiffs[n%ncols-1]))\n",
    "                im = image[channel]\n",
    "                viz.plot_image(im, ax=ax, brighten_image=True, hi_res=True)\n",
    "        else:\n",
    "            if n%ncols == 0:\n",
    "                plot_text(ax,str(bg_channel),14)\n",
    "            elif n%ncols == 1:\n",
    "                image = tiff.read(str(tiffs[0]))\n",
    "                im = image[bg_channel]\n",
    "                viz.plot_image(im, ax=ax, brighten_image=True, hi_res=True)\n",
    "            else:\n",
    "                ax.axis('off')\n",
    "        \n",
    "        ax.xaxis.set_visible(False)\n",
    "        ax.yaxis.set_visible(False)\n",
    "        \n",
    "    if not save_path.is_dir():\n",
    "        save_path.mkdir()\n",
    "    comp_dir_name = f'{slide}-{point}'\n",
    "    comp_dir_path = save_path.joinpath(comp_dir_name)\n",
    "    if not comp_dir_path.is_dir():\n",
    "        comp_dir_path.mkdir()\n",
    "    \n",
    "    plt.gcf().set_figheight(10)\n",
    "    plt.gcf().set_figwidth(13.333)\n",
    "    \n",
    "    plt.subplots_adjust(hspace=0.0,wspace=0.0)\n",
    "    plt.savefig(str(comp_dir_path.joinpath(f'{channel}.tiff')), bbox_inches='tight', dpi=300, pad_inches=0.0)\n",
    "    \n",
    "    \n",
    "\n",
    "for slide_n, slide in enumerate(slide_foldernames):\n",
    "    tiffpath = data_path.joinpath(slide).joinpath(process_folder_prefix+slide+process_folder_suffix)\n",
    "    rawpath = tiffpath.joinpath(raw_tiff_folder_name)\n",
    "    #print(slide)\n",
    "    for rawfilename in glob.glob(f'{str(rawpath)}/*{process_suffix}.tiff'):\n",
    "        pointNum = int(re.search(r'\\d+',pathlib.Path(rawfilename).name).group())\n",
    "        \n",
    "        proc_tiffpath = tiffpath.joinpath(proccessed_tiff_folder_name)\n",
    "        \n",
    "        tiffs = [\n",
    "            rawpath.joinpath(rawfilename),\n",
    "            proc_tiffpath.joinpath(f'Point{pointNum}{process_suffix}.tiff'),\n",
    "            #proc_tiffpath.joinpath(f'Point{pointNum}{process_suffix}{isobar_suffix}.tiff'),\n",
    "            proc_tiffpath.joinpath(f'Point{pointNum}{process_suffix}{isobar_suffix}{denoise_suffix}.tiff')\n",
    "        ]\n",
    "        \n",
    "        titles1 = [\n",
    "            'Mass Channel',\n",
    "            'Raw Image',\n",
    "            'Background Removed',\n",
    "            'Denoised'\n",
    "        ]\n",
    "        titles2 = [\n",
    "            'Mass Channel',\n",
    "            'Raw Image',\n",
    "            'Background Removed',\n",
    "            'Isobaric Correction',\n",
    "            'Denoised'\n",
    "        ]\n",
    "        \n",
    "        # TODO: programatically select which tiffs to plot for each channel, from input parameters\n",
    "        for channel in mass_channels:\n",
    "            if channel != 115:\n",
    "                make_fig(tiffs,slide_names[slide_n],pointNum,channel,titles1)\n",
    "            else:\n",
    "                tiffs2 = tiffs.copy()\n",
    "                tiffs2.insert(2,proc_tiffpath.joinpath(f'Point{pointNum}{process_suffix}{isobar_suffix}.tiff'))\n",
    "                make_fig(tiffs2,slide_names[slide_n],pointNum,channel,titles2)\n",
    "            #break #debug\n",
    "                \n",
    "            \n",
    "        #break #debug\n",
    "    #break #debug"
   ]
  },
  {
   "cell_type": "code",
   "execution_count": null,
   "metadata": {},
   "outputs": [],
   "source": []
  }
 ],
 "metadata": {
  "kernelspec": {
   "display_name": "Python 3",
   "language": "python",
   "name": "python3"
  },
  "language_info": {
   "codemirror_mode": {
    "name": "ipython",
    "version": 3
   },
   "file_extension": ".py",
   "mimetype": "text/x-python",
   "name": "python",
   "nbconvert_exporter": "python",
   "pygments_lexer": "ipython3",
   "version": "3.7.3"
  }
 },
 "nbformat": 4,
 "nbformat_minor": 4
}
