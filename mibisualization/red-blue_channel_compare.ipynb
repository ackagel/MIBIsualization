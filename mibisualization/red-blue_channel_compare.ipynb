{
 "cells": [
  {
   "cell_type": "markdown",
   "metadata": {},
   "source": [
    "# red-blue_channel_compare\n",
    "\n",
    "Notebook to plot two mass channels for each given FOV:\n",
    "+ One will be colored <span style=\"color:red;text-shadow:0px 0px 2px white\">__red__</span>\n",
    "+ One will be colored <span style=\"color:cyan;text-shadow:0px 0px 2px black\">__blue__</span>\n",
    "\n",
    "Points of overlap appear <span style=\"color:white;text-shadow:0px 0px 2px black\">__white__</span>  \n",
    "Images are saved as `.png` files within a directory structure headed at input `save_path`\n",
    "\n",
    "Accepted format for images: IonPath's __MIBITiff__ format from MIBI/O or MIBITracker\n",
    "\n",
    "Please update the __input parameters__ as needed"
   ]
  },
  {
   "cell_type": "markdown",
   "metadata": {},
   "source": [
    "## load headers"
   ]
  },
  {
   "cell_type": "code",
   "execution_count": 75,
   "metadata": {},
   "outputs": [
    {
     "name": "stdout",
     "output_type": "stream",
     "text": [
      "The autoreload extension is already loaded. To reload it, use:\n",
      "  %reload_ext autoreload\n"
     ]
    },
    {
     "data": {
      "text/html": [
       "<style>.container { width:100% !important; }</style>"
      ],
      "text/plain": [
       "<IPython.core.display.HTML object>"
      ]
     },
     "metadata": {},
     "output_type": "display_data"
    }
   ],
   "source": [
    "# magic commands\n",
    "%matplotlib notebook\n",
    "%load_ext autoreload\n",
    "%autoreload 2\n",
    "\n",
    "#imports\n",
    "from IPython.core.display import display, HTML\n",
    "display(HTML(\"<style>.container { width:100% !important; }</style>\"))\n",
    "\n",
    "import pathlib\n",
    "import glob\n",
    "import re\n",
    "\n",
    "import numpy as np\n",
    "import pandas as pd\n",
    "import matplotlib.pyplot as plt\n",
    "import matplotlib.gridspec as gridspec\n",
    "\n",
    "from mibidata import mibi_image as mi, tiff\n",
    "import visualize_data as viz"
   ]
  },
  {
   "cell_type": "markdown",
   "metadata": {},
   "source": [
    "## input parameters"
   ]
  },
  {
   "cell_type": "code",
   "execution_count": 76,
   "metadata": {},
   "outputs": [],
   "source": [
    "data_path = pathlib.Path('/Volumes/DISK_IMG/')\n",
    "save_path = pathlib.Path('/Users/adam_kagel/Desktop/RBcomp/')\n",
    "\n",
    "# Foreground/Target channel (-1 for final processing stage)\n",
    "blue_channel = 115\n",
    "b_processing_stage = -1\n",
    "\n",
    "# Background/Donor channel\n",
    "red_channel = 197\n",
    "r_processing_stage = 0\n",
    "\n",
    "# pixels w/ non zero values -> 1.0 (shows all overlaps equally)\n",
    "binary = True\n",
    "\n",
    "# channels rescaled w/ max value -> 1.0 (recommended)\n",
    "normalized = True\n",
    "\n",
    "# brighten image (recommended)\n",
    "brighten = True\n",
    "\n",
    "# Anonymized by default currently\n",
    "# TODO: Read panel if anonymize is false, and use target names\n",
    "#anonymize_targets = True\n",
    "#panel_path = data_path.joinpath('Panel54_MelanomaCohort_2.csv')\n",
    "\n",
    "slide_foldernames = [\n",
    "    '191204_CohortSlide9_S14-47859-A2-S14-20352-A8',\n",
    "    #'191205_CohortSlide7_S146936A2_G1471023A1_run',\n",
    "    #'191206_CohortSlide11_TMA443_run',\n",
    "    #'191211_CohortSlide10_S158066A1_SP153393_G1675892_run'\n",
    "]\n",
    "\n",
    "# leave empty to use full slide name\n",
    "slide_names = [\n",
    "    'S9',\n",
    "    #'S7',\n",
    "    #'S11',\n",
    "    #'S10'\n",
    "]\n",
    "\n",
    "process_folder_prefix = ''\n",
    "process_folder_suffix = '_TIFF'\n",
    "\n",
    "raw_tiff_folder_name = 'bg_none'\n",
    "proccessed_tiff_folder_name = 'bg_au_050_ta_020'\n",
    "\n",
    "# process 'prefix' is PointN\n",
    "process_suffix = '_RowNumber0_Depth_Profile0'\n",
    "isobar_suffix = '-MassCorrected'\n",
    "denoise_suffix = '-Filtered'\n"
   ]
  },
  {
   "cell_type": "markdown",
   "metadata": {},
   "source": [
    "## plot images"
   ]
  },
  {
   "cell_type": "code",
   "execution_count": 78,
   "metadata": {
    "scrolled": false
   },
   "outputs": [],
   "source": [
    "# prevents memory overload from a billion figures :)\n",
    "plt.close('all')\n",
    "\n",
    "plt.ioff()\n",
    "plt.style.use('dark_background')\n",
    "\n",
    "def make_fig(tiffs,slide,point):\n",
    "    \n",
    "    # blue channel (technically cyan)\n",
    "    b_image = tiff.read(str(tiffs[b_processing_stage]))\n",
    "    b_im = b_image[blue_channel]\n",
    "    dim = np.zeros(b_im.shape)\n",
    "    B = np.stack((dim,b_im/2,b_im/2), axis=2)\n",
    "    \n",
    "    # red channel (should have same shape as blue channel)\n",
    "    r_image = tiff.read(str(tiffs[r_processing_stage]))\n",
    "    r_im = r_image[red_channel]\n",
    "    R = np.stack((r_im,dim,dim), axis=2)\n",
    "    \n",
    "    # move to [0,1] scale\n",
    "    R, B = R/256., B/256.\n",
    "    \n",
    "    # plotting options\n",
    "    if binary:\n",
    "        R, B = np.ceil(R), np.ceil(B)\n",
    "    else:\n",
    "        if normalized:\n",
    "            R, B = R/float(np.amax(R)), B/float(np.amax(B))\n",
    "        if brighten:\n",
    "            R, B = np.power(R,1/2), np.power(B,1/2)\n",
    "    \n",
    "    # make plot\n",
    "    plt.imshow(R+B)\n",
    "    plt.gca().set_frame_on(False)\n",
    "    plt.gca().xaxis.set_visible(False)\n",
    "    plt.gca().yaxis.set_visible(False)\n",
    "    plt.tight_layout()\n",
    "    plt.gcf().set_figheight(1024/300)\n",
    "    plt.gcf().set_figwidth(1024/300)\n",
    "    \n",
    "    # create directories for saving\n",
    "    if not save_path.is_dir():\n",
    "        save_path.mkdir()\n",
    "    comp_dir_name = f'{slide}-{point}'\n",
    "    comp_dir_path = save_path.joinpath(comp_dir_name)\n",
    "    if not comp_dir_path.is_dir():\n",
    "        comp_dir_path.mkdir()\n",
    "    \n",
    "    # save as .png for lossless compression\n",
    "    # TODO: better file naming convention\n",
    "    plt.savefig(str(comp_dir_path.joinpath(f'{blue_channel}_v_{red_channel}_binary_{binary}.png')), bbox_inches='tight', dpi=300, pad_inches=0.0)\n",
    "    \n",
    "# main loop\n",
    "for slide_n, slide in enumerate(slide_foldernames):\n",
    "    tiffpath = data_path.joinpath(slide).joinpath(process_folder_prefix+slide+process_folder_suffix)\n",
    "    rawpath = tiffpath.joinpath(raw_tiff_folder_name)\n",
    "    \n",
    "    # search for different points in raw tiff file directory\n",
    "    # not a robust approach\n",
    "    # TODO: User inputs desired points/toggles all points in slide\n",
    "    for rawfilename in glob.glob(f'{str(rawpath)}/*{process_suffix}.tiff'):\n",
    "        pointNum = int(re.search(r'\\d+',pathlib.Path(rawfilename).name).group())\n",
    "        \n",
    "        proc_tiffpath = tiffpath.joinpath(proccessed_tiff_folder_name)\n",
    "        \n",
    "        tiffs = [\n",
    "            rawpath.joinpath(rawfilename),\n",
    "            proc_tiffpath.joinpath(f'Point{pointNum}{process_suffix}.tiff'),\n",
    "            proc_tiffpath.joinpath(f'Point{pointNum}{process_suffix}{isobar_suffix}.tiff'),\n",
    "            proc_tiffpath.joinpath(f'Point{pointNum}{process_suffix}{isobar_suffix}{denoise_suffix}.tiff')\n",
    "        ]\n",
    "        \n",
    "        make_fig(tiffs,slide_names[slide_n],pointNum)    \n",
    "            \n",
    "        #break #debug\n",
    "    #break #debug"
   ]
  },
  {
   "cell_type": "code",
   "execution_count": null,
   "metadata": {},
   "outputs": [],
   "source": []
  }
 ],
 "metadata": {
  "kernelspec": {
   "display_name": "Python 3",
   "language": "python",
   "name": "python3"
  },
  "language_info": {
   "codemirror_mode": {
    "name": "ipython",
    "version": 3
   },
   "file_extension": ".py",
   "mimetype": "text/x-python",
   "name": "python",
   "nbconvert_exporter": "python",
   "pygments_lexer": "ipython3",
   "version": "3.7.3"
  }
 },
 "nbformat": 4,
 "nbformat_minor": 4
}
