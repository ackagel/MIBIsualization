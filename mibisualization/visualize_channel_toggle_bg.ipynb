{
 "cells": [
  {
   "cell_type": "markdown",
   "metadata": {},
   "source": [
    "# Visualize Channel Toggle Bg\n",
    "\n",
    "Notebook to plot the selected channel for a list of image files.\n",
    "It can be used for instance, to plot all the steps of the low-level cleaning for a specific channel for 1 point, or compare the expression of a specific channel across different points.\n",
    "This version of the script takes 2 images, plots them in the same axis object and allows the user to toggle between both of them: once the notebook has run, select the desired plot and press 't' to toggle the visibility of both plots. This is useful for instance, in order to visualize the change in a channel before and afer slide bg removal.\n",
    "\n",
    "Accepted format for the images: IONpath's **MIBItiff** as from the MIBI/O software or the MIBItracker.\n",
    "\n",
    "Please update the parameters in the **input parameters** section before running the notebook."
   ]
  },
  {
   "cell_type": "markdown",
   "metadata": {},
   "source": [
    "# load headers"
   ]
  },
  {
   "cell_type": "code",
   "execution_count": 1,
   "metadata": {
    "scrolled": true
   },
   "outputs": [
    {
     "data": {
      "text/html": [
       "<style>.container { width:100% !important; }</style>"
      ],
      "text/plain": [
       "<IPython.core.display.HTML object>"
      ]
     },
     "metadata": {},
     "output_type": "display_data"
    }
   ],
   "source": [
    "# magic commands\n",
    "%matplotlib notebook\n",
    "%load_ext autoreload\n",
    "%autoreload 2\n",
    "\n",
    "#imports\n",
    "from IPython.core.display import display, HTML\n",
    "display(HTML(\"<style>.container { width:100% !important; }</style>\"))\n",
    "\n",
    "import os\n",
    "\n",
    "import numpy as np\n",
    "import pandas as pd\n",
    "import matplotlib.pyplot as plt\n",
    "\n",
    "from mibidata import mibi_image as mi, tiff\n",
    "import visualize_data as viz"
   ]
  },
  {
   "cell_type": "markdown",
   "metadata": {},
   "source": [
    "# input parameters"
   ]
  },
  {
   "cell_type": "code",
   "execution_count": 2,
   "metadata": {},
   "outputs": [],
   "source": [
    "data_path = os.path.expanduser('~/common/path/to/data')\n",
    "\n",
    "# channel to plot\n",
    "# define as mass, in order to anonymize the targets\n",
    "channel_to_plot = 000\n",
    "\n",
    "slide_num = 0\n",
    "point_num = 0\n",
    "run_name = '191204_CohortSlide9_S14-47859-A2-S14-20352-A8'\n",
    "\n",
    "# load tiffs\n",
    "l_tiff_files = []\n",
    "l_tiff_files_bg = []\n",
    "l_titles = []\n",
    "\n",
    "l_tiff_files.append(os.path.join(data_path,\n",
    "                                 f'raw_msdf/{run_name}/{run_name}_TIFF',\n",
    "                                 f'sl{slide_num:02}_pt{point_num:02}/bg_au_050_ta_020',\n",
    "                                 f'Point{point_num}_RowNumber0_Depth_Profile0.tiff'))\n",
    "l_tiff_files_bg.append(os.path.join(data_path,\n",
    "                                    f'raw_msdf/{run_name}/{run_name}_TIFF',\n",
    "                                    f'sl{slide_num:02}_pt{point_num:02}/bg_none',\n",
    "                                    f'Point{point_num}_RowNumber0_Depth_Profile0.tiff'))\n",
    "l_titles.append('bg removed: Au 50, Ta 20')\n",
    "\n",
    "l_tiff_files.append(os.path.join(data_path,\n",
    "                                 f'raw_msdf/{run_name}/{run_name}_TIFF',\n",
    "                                 f'sl{slide_num:02}_pt{point_num:02}/bg_au_050_ta_020',\n",
    "                                 f'Point{point_num}_RowNumber0_Depth_Profile0-MassCorrected.tiff'))\n",
    "l_tiff_files_bg.append(os.path.join(data_path,\n",
    "                                    f'raw_msdf/{run_name}/{run_name}_TIFF',\n",
    "                                    f'sl{slide_num:02}_pt{point_num:02}/bg_au_050_ta_020',\n",
    "                                    f'Point{point_num}_RowNumber0_Depth_Profile0.tiff'))\n",
    "l_titles.append('isobaric interferences corrected')\n",
    "\n",
    "l_tiff_files.append(os.path.join(data_path,\n",
    "                                 f'raw_msdf/{run_name}/{run_name}_TIFF',\n",
    "                                 f'sl{slide_num:02}_pt{point_num:02}/bg_au_050_ta_020',\n",
    "                                 f'Point{point_num}_RowNumber0_Depth_Profile0-MassCorrected-Filtered.tiff'))\n",
    "l_tiff_files_bg.append(os.path.join(data_path,\n",
    "                                    f'raw_msdf/{run_name}/{run_name}_TIFF',\n",
    "                                    f'sl{slide_num:02}_pt{point_num:02}/bg_au_050_ta_020',\n",
    "                                    f'Point{point_num}_RowNumber0_Depth_Profile0-MassCorrected.tiff'))\n",
    "l_titles.append('denoised')\n",
    "\n",
    "#anonymize_targets = True\n",
    "anonymize_targets = False\n",
    "\n",
    "if anonymize_targets:\n",
    "    print('WARNING! TIFF files and TIFF file names might not be anonymized!')"
   ]
  },
  {
   "cell_type": "markdown",
   "metadata": {},
   "source": [
    "# plot images"
   ]
  },
  {
   "cell_type": "code",
   "execution_count": 3,
   "metadata": {
    "scrolled": false
   },
   "outputs": [
    {
     "name": "stdout",
     "output_type": "stream",
     "text": [
      "\n",
      "file 0: /Users/adam_kagel/common/path/to/data/raw_msdf/run_name_for_slide0/run_name_for_slide0_TIFF/sl00_pt00/bg_au_050_ta_020/Point0_RowNumber0_Depth_Profile0.tiff, channel 0\n",
      "bg removed: Au 50, Ta 20\n"
     ]
    },
    {
     "ename": "FileNotFoundError",
     "evalue": "[Errno 2] No such file or directory: '/Users/adam_kagel/common/path/to/data/raw_msdf/run_name_for_slide0/run_name_for_slide0_TIFF/sl00_pt00/bg_au_050_ta_020/Point0_RowNumber0_Depth_Profile0.tiff'",
     "output_type": "error",
     "traceback": [
      "\u001b[0;31m---------------------------------------------------------------------------\u001b[0m",
      "\u001b[0;31mFileNotFoundError\u001b[0m                         Traceback (most recent call last)",
      "\u001b[0;32m<ipython-input-3-44011c8469cc>\u001b[0m in \u001b[0;36m<module>\u001b[0;34m\u001b[0m\n\u001b[1;32m     13\u001b[0m     \u001b[0;31m#if f_order < 5: # debug\u001b[0m\u001b[0;34m\u001b[0m\u001b[0;34m\u001b[0m\u001b[0;34m\u001b[0m\u001b[0m\n\u001b[1;32m     14\u001b[0m     \u001b[0;31m# read MIBItiff image file\u001b[0m\u001b[0;34m\u001b[0m\u001b[0;34m\u001b[0m\u001b[0;34m\u001b[0m\u001b[0m\n\u001b[0;32m---> 15\u001b[0;31m     \u001b[0mimage\u001b[0m \u001b[0;34m=\u001b[0m \u001b[0mtiff\u001b[0m\u001b[0;34m.\u001b[0m\u001b[0mread\u001b[0m\u001b[0;34m(\u001b[0m\u001b[0mtiff_file\u001b[0m\u001b[0;34m)\u001b[0m\u001b[0;34m\u001b[0m\u001b[0;34m\u001b[0m\u001b[0m\n\u001b[0m\u001b[1;32m     16\u001b[0m     \u001b[0;31m# read MIBItiff bg image file\u001b[0m\u001b[0;34m\u001b[0m\u001b[0;34m\u001b[0m\u001b[0;34m\u001b[0m\u001b[0m\n\u001b[1;32m     17\u001b[0m     \u001b[0mimage_bg\u001b[0m \u001b[0;34m=\u001b[0m \u001b[0mtiff\u001b[0m\u001b[0;34m.\u001b[0m\u001b[0mread\u001b[0m\u001b[0;34m(\u001b[0m\u001b[0mtiff_file_bg\u001b[0m\u001b[0;34m)\u001b[0m\u001b[0;34m\u001b[0m\u001b[0;34m\u001b[0m\u001b[0m\n",
      "\u001b[0;32m/usr/local/anaconda3/envs/mibisualization/lib/python3.7/site-packages/mibidata/tiff.py\u001b[0m in \u001b[0;36mread\u001b[0;34m(file, sims, sed, optical, label)\u001b[0m\n\u001b[1;32m    264\u001b[0m     \u001b[0msims_data\u001b[0m \u001b[0;34m=\u001b[0m \u001b[0;34m[\u001b[0m\u001b[0;34m]\u001b[0m\u001b[0;34m\u001b[0m\u001b[0;34m\u001b[0m\u001b[0m\n\u001b[1;32m    265\u001b[0m     \u001b[0mchannels\u001b[0m \u001b[0;34m=\u001b[0m \u001b[0;34m[\u001b[0m\u001b[0;34m]\u001b[0m\u001b[0;34m\u001b[0m\u001b[0;34m\u001b[0m\u001b[0m\n\u001b[0;32m--> 266\u001b[0;31m     \u001b[0;32mwith\u001b[0m \u001b[0mTiffFile\u001b[0m\u001b[0;34m(\u001b[0m\u001b[0mfile\u001b[0m\u001b[0;34m)\u001b[0m \u001b[0;32mas\u001b[0m \u001b[0mtif\u001b[0m\u001b[0;34m:\u001b[0m\u001b[0;34m\u001b[0m\u001b[0;34m\u001b[0m\u001b[0m\n\u001b[0m\u001b[1;32m    267\u001b[0m         \u001b[0m_check_software\u001b[0m\u001b[0;34m(\u001b[0m\u001b[0mtif\u001b[0m\u001b[0;34m)\u001b[0m\u001b[0;34m\u001b[0m\u001b[0;34m\u001b[0m\u001b[0m\n\u001b[1;32m    268\u001b[0m         \u001b[0;32mfor\u001b[0m \u001b[0mpage\u001b[0m \u001b[0;32min\u001b[0m \u001b[0mtif\u001b[0m\u001b[0;34m.\u001b[0m\u001b[0mpages\u001b[0m\u001b[0;34m:\u001b[0m\u001b[0;34m\u001b[0m\u001b[0;34m\u001b[0m\u001b[0m\n",
      "\u001b[0;32m/usr/local/anaconda3/envs/mibisualization/lib/python3.7/site-packages/skimage/external/tifffile/tifffile.py\u001b[0m in \u001b[0;36m__init__\u001b[0;34m(self, arg, name, offset, size, multifile, multifile_close, pages, fastij, is_ome)\u001b[0m\n\u001b[1;32m   1321\u001b[0m \u001b[0;34m\u001b[0m\u001b[0m\n\u001b[1;32m   1322\u001b[0m         self._fh = FileHandle(arg, mode='rb',\n\u001b[0;32m-> 1323\u001b[0;31m                               name=name, offset=offset, size=size)\n\u001b[0m\u001b[1;32m   1324\u001b[0m         \u001b[0mself\u001b[0m\u001b[0;34m.\u001b[0m\u001b[0moffset_size\u001b[0m \u001b[0;34m=\u001b[0m \u001b[0;32mNone\u001b[0m\u001b[0;34m\u001b[0m\u001b[0;34m\u001b[0m\u001b[0m\n\u001b[1;32m   1325\u001b[0m         \u001b[0mself\u001b[0m\u001b[0;34m.\u001b[0m\u001b[0mpages\u001b[0m \u001b[0;34m=\u001b[0m \u001b[0;34m[\u001b[0m\u001b[0;34m]\u001b[0m\u001b[0;34m\u001b[0m\u001b[0;34m\u001b[0m\u001b[0m\n",
      "\u001b[0;32m/usr/local/anaconda3/envs/mibisualization/lib/python3.7/site-packages/skimage/external/tifffile/tifffile.py\u001b[0m in \u001b[0;36m__init__\u001b[0;34m(self, file, mode, name, offset, size)\u001b[0m\n\u001b[1;32m   3510\u001b[0m         \u001b[0mself\u001b[0m\u001b[0;34m.\u001b[0m\u001b[0m_close\u001b[0m \u001b[0;34m=\u001b[0m \u001b[0;32mTrue\u001b[0m\u001b[0;34m\u001b[0m\u001b[0;34m\u001b[0m\u001b[0m\n\u001b[1;32m   3511\u001b[0m         \u001b[0mself\u001b[0m\u001b[0;34m.\u001b[0m\u001b[0mis_file\u001b[0m \u001b[0;34m=\u001b[0m \u001b[0;32mFalse\u001b[0m\u001b[0;34m\u001b[0m\u001b[0;34m\u001b[0m\u001b[0m\n\u001b[0;32m-> 3512\u001b[0;31m         \u001b[0mself\u001b[0m\u001b[0;34m.\u001b[0m\u001b[0mopen\u001b[0m\u001b[0;34m(\u001b[0m\u001b[0;34m)\u001b[0m\u001b[0;34m\u001b[0m\u001b[0;34m\u001b[0m\u001b[0m\n\u001b[0m\u001b[1;32m   3513\u001b[0m \u001b[0;34m\u001b[0m\u001b[0m\n\u001b[1;32m   3514\u001b[0m     \u001b[0;32mdef\u001b[0m \u001b[0mopen\u001b[0m\u001b[0;34m(\u001b[0m\u001b[0mself\u001b[0m\u001b[0;34m)\u001b[0m\u001b[0;34m:\u001b[0m\u001b[0;34m\u001b[0m\u001b[0;34m\u001b[0m\u001b[0m\n",
      "\u001b[0;32m/usr/local/anaconda3/envs/mibisualization/lib/python3.7/site-packages/skimage/external/tifffile/tifffile.py\u001b[0m in \u001b[0;36mopen\u001b[0;34m(self)\u001b[0m\n\u001b[1;32m   3521\u001b[0m             \u001b[0mself\u001b[0m\u001b[0;34m.\u001b[0m\u001b[0m_file\u001b[0m \u001b[0;34m=\u001b[0m \u001b[0mos\u001b[0m\u001b[0;34m.\u001b[0m\u001b[0mpath\u001b[0m\u001b[0;34m.\u001b[0m\u001b[0mrealpath\u001b[0m\u001b[0;34m(\u001b[0m\u001b[0mself\u001b[0m\u001b[0;34m.\u001b[0m\u001b[0m_file\u001b[0m\u001b[0;34m)\u001b[0m\u001b[0;34m\u001b[0m\u001b[0;34m\u001b[0m\u001b[0m\n\u001b[1;32m   3522\u001b[0m             \u001b[0mself\u001b[0m\u001b[0;34m.\u001b[0m\u001b[0m_dir\u001b[0m\u001b[0;34m,\u001b[0m \u001b[0mself\u001b[0m\u001b[0;34m.\u001b[0m\u001b[0m_name\u001b[0m \u001b[0;34m=\u001b[0m \u001b[0mos\u001b[0m\u001b[0;34m.\u001b[0m\u001b[0mpath\u001b[0m\u001b[0;34m.\u001b[0m\u001b[0msplit\u001b[0m\u001b[0;34m(\u001b[0m\u001b[0mself\u001b[0m\u001b[0;34m.\u001b[0m\u001b[0m_file\u001b[0m\u001b[0;34m)\u001b[0m\u001b[0;34m\u001b[0m\u001b[0;34m\u001b[0m\u001b[0m\n\u001b[0;32m-> 3523\u001b[0;31m             \u001b[0mself\u001b[0m\u001b[0;34m.\u001b[0m\u001b[0m_fh\u001b[0m \u001b[0;34m=\u001b[0m \u001b[0mopen\u001b[0m\u001b[0;34m(\u001b[0m\u001b[0mself\u001b[0m\u001b[0;34m.\u001b[0m\u001b[0m_file\u001b[0m\u001b[0;34m,\u001b[0m \u001b[0mself\u001b[0m\u001b[0;34m.\u001b[0m\u001b[0m_mode\u001b[0m\u001b[0;34m)\u001b[0m\u001b[0;34m\u001b[0m\u001b[0;34m\u001b[0m\u001b[0m\n\u001b[0m\u001b[1;32m   3524\u001b[0m             \u001b[0mself\u001b[0m\u001b[0;34m.\u001b[0m\u001b[0m_close\u001b[0m \u001b[0;34m=\u001b[0m \u001b[0;32mTrue\u001b[0m\u001b[0;34m\u001b[0m\u001b[0;34m\u001b[0m\u001b[0m\n\u001b[1;32m   3525\u001b[0m             \u001b[0;32mif\u001b[0m \u001b[0mself\u001b[0m\u001b[0;34m.\u001b[0m\u001b[0m_offset\u001b[0m \u001b[0;32mis\u001b[0m \u001b[0;32mNone\u001b[0m\u001b[0;34m:\u001b[0m\u001b[0;34m\u001b[0m\u001b[0;34m\u001b[0m\u001b[0m\n",
      "\u001b[0;31mFileNotFoundError\u001b[0m: [Errno 2] No such file or directory: '/Users/adam_kagel/common/path/to/data/raw_msdf/run_name_for_slide0/run_name_for_slide0_TIFF/sl00_pt00/bg_au_050_ta_020/Point0_RowNumber0_Depth_Profile0.tiff'"
     ]
    }
   ],
   "source": [
    "# dark plot style\n",
    "plt.style.use('dark_background')\n",
    "\n",
    "# loop over files\n",
    "sort_dict = {}\n",
    "for f_order, (tiff_file, tiff_file_bg, title) in enumerate(zip(l_tiff_files, l_tiff_files_bg, l_titles)):\n",
    "    print()\n",
    "    if anonymize_targets:\n",
    "        print(f'file {f_order}: \\'{title}\\', channel {channel_to_plot}')\n",
    "    else:\n",
    "        print(f'file {f_order}: {tiff_file}, channel {channel_to_plot}')\n",
    "        print(title)\n",
    "    #if f_order < 5: # debug\n",
    "    # read MIBItiff image file\n",
    "    image = tiff.read(tiff_file)\n",
    "    # read MIBItiff bg image file\n",
    "    image_bg = tiff.read(tiff_file_bg)\n",
    "    #if not anonymize_targets:\n",
    "        #print(f'metadata {image.metadata}')\n",
    "        #print(f'channels {image.channels}')\n",
    "    im = image[channel_to_plot]\n",
    "    im_bg = image_bg[channel_to_plot]\n",
    "    counts = im.sum()\n",
    "    \n",
    "    #sorting metric (integer value initialized as double to deal 'same-key' issue)\n",
    "    metric = double(np.abs(im - im_bg).sum())\n",
    "    # online sort in dictionary (<100 channels so we can add .01 to deal with same-metric channels)\n",
    "    while metric in sort_dict:\n",
    "        metric += 0.01\n",
    "    sort_dict[metric] = (im, im_bg, channel_to_plot, counts, title)\n",
    "    \n",
    "    #im_axes.append(viz.plot_toggle_image(im, im_bg,\n",
    "    #                                     ax=None,\n",
    "    #                                     #title=str(f_order) + ' ' + str(channel_to_plot) + ' ' + str(\"{:.2e}\".format(counts)),\n",
    "    #                                     title=str(channel_to_plot) + ' ' + str(\"{:.2e}\".format(counts)) + ': \\'' + title + '\\'',\n",
    "    #                                     #brighten_image=True, hi_res=True))\n",
    "    #                                     brighten_image=True, hi_res=False))\n",
    "    \n",
    "    #break # debug (show only 1 plot)\n",
    "# sort and plot images\n",
    "im_axes = []\n",
    "for met in sorted(sort_dict.keys(),reverse=True):\n",
    "    im_axes.append(viz.plot_toggle_image(rt_dict[met][0], sort_dict[met][1],\n",
    "                                         ax=None,\n",
    "                                         #title=str(f_order) + ' ' + str(channel_to_plot) + ' ' + str(\"{:.2e}\".format(counts)),\n",
    "                                         title=str(sort_dict[met][2]) + ' ' + str(\"{:.2e}\".format(sort_dict[met][3])) + ': \\'' + sort_dict[met][4] + '\\'',\n",
    "                                         #brighten_image=True, hi_res=True))\n",
    "                                         brighten_image=True, hi_res=False))\n",
    "    #break # debug (show only 1 plot)"
   ]
  }
 ],
 "metadata": {
  "kernelspec": {
   "display_name": "Python 3",
   "language": "python",
   "name": "python3"
  },
  "language_info": {
   "codemirror_mode": {
    "name": "ipython",
    "version": 3
   },
   "file_extension": ".py",
   "mimetype": "text/x-python",
   "name": "python",
   "nbconvert_exporter": "python",
   "pygments_lexer": "ipython3",
   "version": "3.7.3"
  }
 },
 "nbformat": 4,
 "nbformat_minor": 4
}
