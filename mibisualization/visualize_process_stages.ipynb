{
 "cells": [
  {
   "cell_type": "markdown",
   "metadata": {},
   "source": [
    "# visualize processing stages\n",
    "\n",
    "Notebook to plot multiple mass channels at different stages of low-level processing for each point in each given slide.  \n",
    "Each mass channel can be plotted against the background using red/blue comparison (bg in <span style=\"color:red;text-shadow:0px 0px 2px white\">__red__</span>, mass channel in <span style=\"color:cyan;text-shadow:0px 0px 2px black\">__blue__</span>, overlap in <span style=\"color:white;text-shadow:0px 0px 2px black\">__white__</span> ).  \n",
    "Images are saved as `.png` files within a directory structure headed at input `save_path`\n",
    "\n",
    "Accepted format for input images: IonPath's __MIBITiff__ format from MIBI/O or MIBITracker\n",
    "\n",
    "Please update the __input parameters__ as needed"
   ]
  },
  {
   "cell_type": "markdown",
   "metadata": {},
   "source": [
    "## load headers"
   ]
  },
  {
   "cell_type": "code",
   "execution_count": 1,
   "metadata": {},
   "outputs": [
    {
     "data": {
      "text/html": [
       "<style>.container { width:100% !important; }</style>"
      ],
      "text/plain": [
       "<IPython.core.display.HTML object>"
      ]
     },
     "metadata": {},
     "output_type": "display_data"
    }
   ],
   "source": [
    "# magic commands\n",
    "%matplotlib notebook\n",
    "%load_ext autoreload\n",
    "%autoreload 2\n",
    "\n",
    "#imports\n",
    "from IPython.core.display import display, HTML\n",
    "display(HTML(\"<style>.container { width:100% !important; }</style>\"))\n",
    "\n",
    "import pathlib\n",
    "import glob\n",
    "import re\n",
    "\n",
    "import numpy as np\n",
    "import pandas as pd\n",
    "import matplotlib.pyplot as plt\n",
    "import matplotlib.gridspec as gridspec\n",
    "\n",
    "from mibidata import mibi_image as mi, tiff\n",
    "import visualize_data as viz"
   ]
  },
  {
   "cell_type": "markdown",
   "metadata": {},
   "source": [
    "## input parameters"
   ]
  },
  {
   "cell_type": "code",
   "execution_count": 2,
   "metadata": {},
   "outputs": [],
   "source": [
    "data_path = pathlib.Path('/Volumes/DISK_IMG/')\n",
    "save_path = pathlib.Path('/Users/adam_kagel/Desktop/comp/')\n",
    "\n",
    "mass_channels = [89, 113, 146, 158, 175, 176, 115]\n",
    "\n",
    "# background channel to compare to.  For no background comparison, set to -1\n",
    "bg_channel = 197\n",
    "\n",
    "# Option for comparing to bg channel\n",
    "# pixels w/ non zero values -> 1.0 (shows all overlaps equally)\n",
    "binary = False\n",
    "\n",
    "# Anonymized by default currently\n",
    "# TODO: Read panel if anonymize is false, and use target names\n",
    "#anonymize_targets = True\n",
    "#panel_path = data_path.joinpath('Panel54_MelanomaCohort_2.csv')\n",
    "\n",
    "slide_foldernames = [\n",
    "    '191204_CohortSlide9_S14-47859-A2-S14-20352-A8',\n",
    "    '191205_CohortSlide7_S146936A2_G1471023A1_run',\n",
    "    '191206_CohortSlide11_TMA443_run',\n",
    "    '191211_CohortSlide10_S158066A1_SP153393_G1675892_run'\n",
    "]\n",
    "\n",
    "# leave empty to use full slide name\n",
    "slide_names = [\n",
    "    'S9',\n",
    "    'S7',\n",
    "    'S11',\n",
    "    'S10'\n",
    "]\n",
    "\n",
    "process_folder_prefix = ''\n",
    "process_folder_suffix = '_TIFF'\n",
    "\n",
    "raw_tiff_folder_name = 'bg_none'\n",
    "proccessed_tiff_folder_name = 'bg_au_050_ta_020'\n",
    "\n",
    "# process 'prefix' is PointN\n",
    "process_suffix = '_RowNumber0_Depth_Profile0'\n",
    "isobar_suffix = '-MassCorrected'\n",
    "denoise_suffix = '-Filtered'\n",
    "\n",
    "# Show only given mass channels\n",
    "show_raw = mass_channels\n",
    "show_bg_cor = mass_channels\n",
    "show_iso = [115]\n",
    "show_filter = mass_channels"
   ]
  },
  {
   "cell_type": "markdown",
   "metadata": {},
   "source": [
    "## plot images"
   ]
  },
  {
   "cell_type": "code",
   "execution_count": 6,
   "metadata": {},
   "outputs": [
    {
     "name": "stdout",
     "output_type": "stream",
     "text": [
      "counts: 111241.03848330495\n",
      "counts: 111264.23385167464\n",
      "counts: 104715.812799043\n",
      "counts: 72829.14168247953\n",
      "counts: 72557.24933155073\n",
      "counts: 45757.36697860968\n",
      "counts: 12557.45688780686\n",
      "counts: 12789.073970840476\n",
      "counts: 11829.489065180105\n",
      "counts: 14516.468982630266\n",
      "counts: 14728.525349650323\n",
      "counts: 12660.474067599078\n",
      "counts: 39497.14168247947\n",
      "counts: 39254.77874331553\n",
      "counts: 27399.837566844923\n",
      "counts: 66906.66129032255\n",
      "counts: 66351.93560606064\n",
      "counts: 44724.76893939398\n",
      "counts: 30131.094623655914\n",
      "counts: 29968.93560606062\n"
     ]
    },
    {
     "name": "stderr",
     "output_type": "stream",
     "text": [
      "/usr/local/anaconda3/envs/mibisualization/lib/python3.7/site-packages/mibidata/mibi_image.py:423: UserWarning: The \"fov_id\" attribute is required if \"folder\" is specified. Setting \"fov_id\" to Point2-MassCorrected.\n",
      "  f'The \"{field_name}\" attribute is required if \"{value_name}\" '\n",
      "/usr/local/anaconda3/envs/mibisualization/lib/python3.7/site-packages/mibidata/mibi_image.py:423: UserWarning: The \"folder\" attribute is required if \"fov_id\" is specified. Setting \"folder\" to Point2-MassCorrected.\n",
      "  f'The \"{field_name}\" attribute is required if \"{value_name}\" '\n"
     ]
    },
    {
     "name": "stdout",
     "output_type": "stream",
     "text": [
      "counts: 29830.491161616173\n",
      "counts: 21377.557828282825\n"
     ]
    },
    {
     "name": "stderr",
     "output_type": "stream",
     "text": [
      "/usr/local/anaconda3/envs/mibisualization/lib/python3.7/site-packages/mibidata/mibi_image.py:423: UserWarning: The \"fov_id\" attribute is required if \"folder\" is specified. Setting \"fov_id\" to Point4.\n",
      "  f'The \"{field_name}\" attribute is required if \"{value_name}\" '\n",
      "/usr/local/anaconda3/envs/mibisualization/lib/python3.7/site-packages/mibidata/mibi_image.py:423: UserWarning: The \"folder\" attribute is required if \"fov_id\" is specified. Setting \"folder\" to Point4.\n",
      "  f'The \"{field_name}\" attribute is required if \"{value_name}\" '\n"
     ]
    },
    {
     "name": "stdout",
     "output_type": "stream",
     "text": [
      "counts: 8536.166666666666\n",
      "counts: 8536.166666666666\n"
     ]
    },
    {
     "name": "stderr",
     "output_type": "stream",
     "text": [
      "/usr/local/anaconda3/envs/mibisualization/lib/python3.7/site-packages/mibidata/mibi_image.py:423: UserWarning: The \"fov_id\" attribute is required if \"folder\" is specified. Setting \"fov_id\" to Point4-MassCorrected-Filtered.\n",
      "  f'The \"{field_name}\" attribute is required if \"{value_name}\" '\n",
      "/usr/local/anaconda3/envs/mibisualization/lib/python3.7/site-packages/mibidata/mibi_image.py:423: UserWarning: The \"folder\" attribute is required if \"fov_id\" is specified. Setting \"folder\" to Point4-MassCorrected-Filtered.\n",
      "  f'The \"{field_name}\" attribute is required if \"{value_name}\" '\n"
     ]
    },
    {
     "name": "stdout",
     "output_type": "stream",
     "text": [
      "counts: 7358.500000000001\n",
      "counts: 4074.0\n",
      "counts: 4074.0\n",
      "counts: 1429.5\n",
      "counts: 676.0\n",
      "counts: 676.0\n",
      "counts: 433.0\n",
      "counts: 992.5\n",
      "counts: 992.5\n",
      "counts: 673.0\n",
      "counts: 2444.5\n",
      "counts: 2444.5\n",
      "counts: 1119.0\n",
      "counts: 3387.0\n",
      "counts: 3387.0\n",
      "counts: 1543.0\n",
      "counts: 2434.0000000000005\n",
      "counts: 2434.0000000000005\n"
     ]
    },
    {
     "name": "stderr",
     "output_type": "stream",
     "text": [
      "/usr/local/anaconda3/envs/mibisualization/lib/python3.7/site-packages/mibidata/mibi_image.py:423: UserWarning: The \"fov_id\" attribute is required if \"folder\" is specified. Setting \"fov_id\" to Point4-MassCorrected.\n",
      "  f'The \"{field_name}\" attribute is required if \"{value_name}\" '\n",
      "/usr/local/anaconda3/envs/mibisualization/lib/python3.7/site-packages/mibidata/mibi_image.py:423: UserWarning: The \"folder\" attribute is required if \"fov_id\" is specified. Setting \"folder\" to Point4-MassCorrected.\n",
      "  f'The \"{field_name}\" attribute is required if \"{value_name}\" '\n"
     ]
    },
    {
     "name": "stdout",
     "output_type": "stream",
     "text": [
      "counts: 2433.333333333334\n",
      "counts: 2303.3333333333335\n"
     ]
    },
    {
     "name": "stderr",
     "output_type": "stream",
     "text": [
      "/usr/local/anaconda3/envs/mibisualization/lib/python3.7/site-packages/mibidata/mibi_image.py:423: UserWarning: The \"fov_id\" attribute is required if \"folder\" is specified. Setting \"fov_id\" to Point8.\n",
      "  f'The \"{field_name}\" attribute is required if \"{value_name}\" '\n",
      "/usr/local/anaconda3/envs/mibisualization/lib/python3.7/site-packages/mibidata/mibi_image.py:423: UserWarning: The \"folder\" attribute is required if \"fov_id\" is specified. Setting \"folder\" to Point8.\n",
      "  f'The \"{field_name}\" attribute is required if \"{value_name}\" '\n"
     ]
    },
    {
     "name": "stdout",
     "output_type": "stream",
     "text": [
      "counts: 22256.97094972069\n",
      "counts: 22256.97094972069\n"
     ]
    },
    {
     "name": "stderr",
     "output_type": "stream",
     "text": [
      "/usr/local/anaconda3/envs/mibisualization/lib/python3.7/site-packages/mibidata/mibi_image.py:423: UserWarning: The \"fov_id\" attribute is required if \"folder\" is specified. Setting \"fov_id\" to Point8-MassCorrected-Filtered.\n",
      "  f'The \"{field_name}\" attribute is required if \"{value_name}\" '\n",
      "/usr/local/anaconda3/envs/mibisualization/lib/python3.7/site-packages/mibidata/mibi_image.py:423: UserWarning: The \"folder\" attribute is required if \"fov_id\" is specified. Setting \"folder\" to Point8-MassCorrected-Filtered.\n",
      "  f'The \"{field_name}\" attribute is required if \"{value_name}\" '\n"
     ]
    },
    {
     "name": "stdout",
     "output_type": "stream",
     "text": [
      "counts: 20538.61340782123\n",
      "counts: 32107.43076923077\n",
      "counts: 32107.43076923077\n",
      "counts: 19764.73846153845\n",
      "counts: 8868.199999999993\n",
      "counts: 8868.199999999993\n",
      "counts: 2873.533333333334\n",
      "counts: 16371.422222222225\n",
      "counts: 16371.422222222225\n",
      "counts: 12633.755555555552\n",
      "counts: 22214.4\n",
      "counts: 22214.4\n",
      "counts: 15647.733333333323\n",
      "counts: 87152.2\n",
      "counts: 87152.2\n",
      "counts: 63240.422222222194\n",
      "counts: 7301.96\n",
      "counts: 7301.96\n"
     ]
    },
    {
     "name": "stderr",
     "output_type": "stream",
     "text": [
      "/usr/local/anaconda3/envs/mibisualization/lib/python3.7/site-packages/mibidata/mibi_image.py:423: UserWarning: The \"fov_id\" attribute is required if \"folder\" is specified. Setting \"fov_id\" to Point8-MassCorrected.\n",
      "  f'The \"{field_name}\" attribute is required if \"{value_name}\" '\n",
      "/usr/local/anaconda3/envs/mibisualization/lib/python3.7/site-packages/mibidata/mibi_image.py:423: UserWarning: The \"folder\" attribute is required if \"fov_id\" is specified. Setting \"folder\" to Point8-MassCorrected.\n",
      "  f'The \"{field_name}\" attribute is required if \"{value_name}\" '\n"
     ]
    },
    {
     "name": "stdout",
     "output_type": "stream",
     "text": [
      "counts: 7300.893333333334\n",
      "counts: 4157.053333333333\n"
     ]
    },
    {
     "name": "stderr",
     "output_type": "stream",
     "text": [
      "/usr/local/anaconda3/envs/mibisualization/lib/python3.7/site-packages/mibidata/mibi_image.py:423: UserWarning: The \"fov_id\" attribute is required if \"folder\" is specified. Setting \"fov_id\" to Point40.\n",
      "  f'The \"{field_name}\" attribute is required if \"{value_name}\" '\n",
      "/usr/local/anaconda3/envs/mibisualization/lib/python3.7/site-packages/mibidata/mibi_image.py:423: UserWarning: The \"folder\" attribute is required if \"fov_id\" is specified. Setting \"folder\" to Point40.\n",
      "  f'The \"{field_name}\" attribute is required if \"{value_name}\" '\n"
     ]
    },
    {
     "name": "stdout",
     "output_type": "stream",
     "text": [
      "counts: 81810.10913070673\n",
      "counts: 79374.05040650401\n"
     ]
    },
    {
     "name": "stderr",
     "output_type": "stream",
     "text": [
      "/usr/local/anaconda3/envs/mibisualization/lib/python3.7/site-packages/mibidata/mibi_image.py:423: UserWarning: The \"fov_id\" attribute is required if \"folder\" is specified. Setting \"fov_id\" to Point40-MassCorrected-Filtered.\n",
      "  f'The \"{field_name}\" attribute is required if \"{value_name}\" '\n",
      "/usr/local/anaconda3/envs/mibisualization/lib/python3.7/site-packages/mibidata/mibi_image.py:423: UserWarning: The \"folder\" attribute is required if \"fov_id\" is specified. Setting \"folder\" to Point40-MassCorrected-Filtered.\n",
      "  f'The \"{field_name}\" attribute is required if \"{value_name}\" '\n"
     ]
    },
    {
     "name": "stdout",
     "output_type": "stream",
     "text": [
      "counts: 77549.16016260168\n",
      "counts: 96210.48717948719\n",
      "counts: 101240.5190476191\n",
      "counts: 86805.66190476189\n",
      "counts: 57947.68717948716\n",
      "counts: 54649.03333333333\n",
      "counts: 49347.433333333334\n",
      "counts: 50449.22717948719\n",
      "counts: 48396.87333333333\n",
      "counts: 48086.95333333335\n",
      "counts: 96629.82051282052\n",
      "counts: 93660.70952380946\n",
      "counts: 89063.56666666667\n",
      "counts: 91375.25641025636\n",
      "counts: 86803.00256410267\n",
      "counts: 73669.77179487172\n",
      "counts: 69153.2173382174\n",
      "counts: 64611.78888888891\n"
     ]
    },
    {
     "name": "stderr",
     "output_type": "stream",
     "text": [
      "/usr/local/anaconda3/envs/mibisualization/lib/python3.7/site-packages/mibidata/mibi_image.py:423: UserWarning: The \"fov_id\" attribute is required if \"folder\" is specified. Setting \"fov_id\" to Point40-MassCorrected.\n",
      "  f'The \"{field_name}\" attribute is required if \"{value_name}\" '\n",
      "/usr/local/anaconda3/envs/mibisualization/lib/python3.7/site-packages/mibidata/mibi_image.py:423: UserWarning: The \"folder\" attribute is required if \"fov_id\" is specified. Setting \"folder\" to Point40-MassCorrected.\n",
      "  f'The \"{field_name}\" attribute is required if \"{value_name}\" '\n"
     ]
    },
    {
     "name": "stdout",
     "output_type": "stream",
     "text": [
      "counts: 63931.344444444425\n",
      "counts: 57057.18571428569\n"
     ]
    },
    {
     "name": "stderr",
     "output_type": "stream",
     "text": [
      "/usr/local/anaconda3/envs/mibisualization/lib/python3.7/site-packages/mibidata/mibi_image.py:423: UserWarning: The \"fov_id\" attribute is required if \"folder\" is specified. Setting \"fov_id\" to Point3.\n",
      "  f'The \"{field_name}\" attribute is required if \"{value_name}\" '\n",
      "/usr/local/anaconda3/envs/mibisualization/lib/python3.7/site-packages/mibidata/mibi_image.py:423: UserWarning: The \"folder\" attribute is required if \"fov_id\" is specified. Setting \"folder\" to Point3.\n",
      "  f'The \"{field_name}\" attribute is required if \"{value_name}\" '\n"
     ]
    },
    {
     "name": "stdout",
     "output_type": "stream",
     "text": [
      "counts: 178070.47731064394\n",
      "counts: 172162.73163548158\n"
     ]
    },
    {
     "name": "stderr",
     "output_type": "stream",
     "text": [
      "/usr/local/anaconda3/envs/mibisualization/lib/python3.7/site-packages/mibidata/mibi_image.py:423: UserWarning: The \"fov_id\" attribute is required if \"folder\" is specified. Setting \"fov_id\" to Point3-MassCorrected-Filtered.\n",
      "  f'The \"{field_name}\" attribute is required if \"{value_name}\" '\n",
      "/usr/local/anaconda3/envs/mibisualization/lib/python3.7/site-packages/mibidata/mibi_image.py:423: UserWarning: The \"folder\" attribute is required if \"fov_id\" is specified. Setting \"folder\" to Point3-MassCorrected-Filtered.\n",
      "  f'The \"{field_name}\" attribute is required if \"{value_name}\" '\n"
     ]
    },
    {
     "name": "stdout",
     "output_type": "stream",
     "text": [
      "counts: 169229.40731115727\n",
      "counts: 180081.10493827157\n",
      "counts: 170812.98789173784\n",
      "counts: 163561.43233618213\n",
      "counts: 148746.08271604934\n",
      "counts: 141763.33974358995\n",
      "counts: 136701.83974358987\n",
      "counts: 141634.6427160494\n",
      "counts: 136590.5997435898\n",
      "counts: 135314.3597435898\n",
      "counts: 178773.56564287853\n",
      "counts: 174737.97487872464\n",
      "counts: 170783.97487872478\n",
      "counts: 182357.38271604924\n",
      "counts: 177025.41117216105\n",
      "counts: 165115.9826007325\n",
      "counts: 150444.21604938264\n",
      "counts: 141445.73974358971\n"
     ]
    },
    {
     "name": "stderr",
     "output_type": "stream",
     "text": [
      "/usr/local/anaconda3/envs/mibisualization/lib/python3.7/site-packages/mibidata/mibi_image.py:423: UserWarning: The \"fov_id\" attribute is required if \"folder\" is specified. Setting \"fov_id\" to Point3-MassCorrected.\n",
      "  f'The \"{field_name}\" attribute is required if \"{value_name}\" '\n",
      "/usr/local/anaconda3/envs/mibisualization/lib/python3.7/site-packages/mibidata/mibi_image.py:423: UserWarning: The \"folder\" attribute is required if \"fov_id\" is specified. Setting \"folder\" to Point3-MassCorrected.\n",
      "  f'The \"{field_name}\" attribute is required if \"{value_name}\" '\n"
     ]
    },
    {
     "name": "stdout",
     "output_type": "stream",
     "text": [
      "counts: 139478.50076053894\n",
      "counts: 137108.02618426768\n",
      "counts: 94279.1483781918\n",
      "counts: 93667.9449472096\n",
      "counts: 90725.10834590254\n",
      "counts: 68332.98726708078\n",
      "counts: 67359.10769230763\n",
      "counts: 58688.107692307734\n",
      "counts: 20080.28726708075\n",
      "counts: 19723.607692307687\n",
      "counts: 13887.20769230769\n",
      "counts: 16870.515527950294\n",
      "counts: 16342.807692307699\n",
      "counts: 13968.19899665552\n",
      "counts: 88857.09609061014\n",
      "counts: 88023.78808446457\n",
      "counts: 81425.90573152335\n",
      "counts: 53453.18541522882\n",
      "counts: 52309.95584045581\n",
      "counts: 45996.51139601139\n",
      "counts: 35428.037267080756\n",
      "counts: 34059.99413298567\n",
      "counts: 33841.75684485008\n",
      "counts: 26896.502607561924\n"
     ]
    }
   ],
   "source": [
    "plt.ioff()\n",
    "plt.style.use('dark_background')\n",
    "\n",
    "# show matrix\n",
    "show_m = np.zeros((4,len(mass_channels)))\n",
    "show_m[0,:] = np.isin(mass_channels, show_raw)\n",
    "show_m[1,:] = np.isin(mass_channels, show_bg_cor)\n",
    "show_m[2,:] = np.isin(mass_channels, show_iso)\n",
    "show_m[3,:] = np.isin(mass_channels, show_filter)\n",
    "show_m = np.ma.make_mask(show_m, shrink=False)\n",
    "\n",
    "def plot_text(ax,text,fontsize):\n",
    "    ax.text(0.5,0.5,text,verticalalignment='center',horizontalalignment='center',transform=ax.transAxes, color='yellow', fontsize=fontsize)\n",
    "    ax.set_frame_on(False)\n",
    "    ax.xaxis.set_visible(False)\n",
    "    ax.yaxis.set_visible(False)\n",
    "\n",
    "def make_fig(tiffs,slide,point,channel,titles):\n",
    "    ncols = len(tiffs)+1\n",
    "    \n",
    "    plt.subplots_adjust(hspace=0.0,wspace=0.0)\n",
    "    wr = [1] + ([3] * (ncols-1))\n",
    "    gs = gridspec.GridSpec(2,ncols,height_ratios = [1,3],width_ratios=wr, hspace=0)\n",
    "    \n",
    "    for n, cell in enumerate(gs):\n",
    "        ax = plt.subplot(cell)\n",
    "        if n//ncols == 0:\n",
    "            plot_text(ax,titles[n],14)\n",
    "        else:\n",
    "            if n%ncols==0:\n",
    "                plot_text(ax,str(channel),14)\n",
    "            else:\n",
    "                image = tiff.read(str(tiffs[n%ncols-1]))\n",
    "                im = image[channel]\n",
    "                if bg_channel<0:\n",
    "                    viz.plot_image(im, ax=ax,brighten_image=True,hi_res=True)\n",
    "                else:\n",
    "                    viz.plot_rb_image(image[bg_channel],im,ax=ax,binary=binary,normalize=True,brighten_image=True,hi_res=True)\n",
    "        ax.xaxis.set_visible(False)\n",
    "        ax.yaxis.set_visible(False)\n",
    "    \n",
    "    '''\n",
    "    # TODO: too many if/elif/else's\n",
    "    for n, cell in enumerate(gs):\n",
    "        ax = plt.subplot(cell)\n",
    "        if n//ncols == 0:\n",
    "            plot_text(ax,titles[n],14)\n",
    "        elif n//ncols == 1:\n",
    "            if n%ncols ==0:\n",
    "                plot_text(ax,str(channel),14)\n",
    "            else:\n",
    "                image = tiff.read(str(tiffs[n%ncols-1]))\n",
    "                im = image[channel]\n",
    "                viz.plot_image(im, ax=ax, brighten_image=True, hi_res=True)\n",
    "        else:\n",
    "            if n%ncols == 0:\n",
    "                plot_text(ax,str(bg_channel),14)\n",
    "            elif n%ncols == 1:\n",
    "                image = tiff.read(str(tiffs[0]))\n",
    "                im = image[bg_channel]\n",
    "                viz.plot_image(im, ax=ax, brighten_image=True, hi_res=True)\n",
    "            else:\n",
    "                ax.axis('off')\n",
    "        \n",
    "        ax.xaxis.set_visible(False)\n",
    "        ax.yaxis.set_visible(False)\n",
    "    '''\n",
    "    if not save_path.is_dir():\n",
    "        save_path.mkdir()\n",
    "    comp_dir_name = f'{slide}-{point}'\n",
    "    comp_dir_path = save_path.joinpath(comp_dir_name)\n",
    "    if not comp_dir_path.is_dir():\n",
    "        comp_dir_path.mkdir()\n",
    "    \n",
    "    plt.gcf().set_figheight((1024*4/3)/300)\n",
    "    plt.gcf().set_figwidth((1024*(ncols-2/3))/300)\n",
    "    \n",
    "    # save as .png for lossless compression\n",
    "    plt.subplots_adjust(hspace=0.0,wspace=0.0)\n",
    "    plt.savefig(str(comp_dir_path.joinpath(f'{channel}.png')), bbox_inches='tight', dpi=300, pad_inches=0.0)\n",
    "    \n",
    "    \n",
    "\n",
    "for slide_n, slide in enumerate(slide_foldernames):\n",
    "    tiffpath = data_path.joinpath(slide).joinpath(process_folder_prefix+slide+process_folder_suffix)\n",
    "    rawpath = tiffpath.joinpath(raw_tiff_folder_name)\n",
    "    #print(slide)\n",
    "    for rawfilename in glob.glob(f'{str(rawpath)}/*{process_suffix}.tiff'):\n",
    "        pointNum = int(re.search(r'\\d+',pathlib.Path(rawfilename).name).group())\n",
    "        \n",
    "        proc_tiffpath = tiffpath.joinpath(proccessed_tiff_folder_name)\n",
    "        \n",
    "        all_tiffs = np.array([\n",
    "            rawpath.joinpath(rawfilename),\n",
    "            proc_tiffpath.joinpath(f'Point{pointNum}{process_suffix}.tiff'),\n",
    "            proc_tiffpath.joinpath(f'Point{pointNum}{process_suffix}{isobar_suffix}.tiff'),\n",
    "            proc_tiffpath.joinpath(f'Point{pointNum}{process_suffix}{isobar_suffix}{denoise_suffix}.tiff')\n",
    "        ])\n",
    "        \n",
    "        all_titles = np.array([\n",
    "            'Raw Image',\n",
    "            'Background Removed',\n",
    "            'Isobaric Correction',\n",
    "            'Denoised'\n",
    "        ])\n",
    "        \n",
    "        # TODO: programatically select which tiffs to plot for each channel, from input parameters\n",
    "        for n_chan, channel in enumerate(mass_channels):\n",
    "            #print(all_tiffs)\n",
    "            #print(show_m[:,n_chan])\n",
    "            #titles = all_titles[show_m[:,n_chan]]\n",
    "            #print(np.concatenate((['Mass Channel'], all_titles[show_m[:,n_chan]])))\n",
    "            make_fig(all_tiffs[show_m[:,n_chan]],slide_names[slide_n],pointNum,channel,np.concatenate((['Mass Channel'], all_titles[show_m[:,n_chan]])))\n",
    "            \n",
    "            '''\n",
    "            if channel != 115:\n",
    "                make_fig(tiffs,slide_names[slide_n],pointNum,channel,titles1)\n",
    "            else:\n",
    "                tiffs2 = tiffs.copy()\n",
    "                tiffs2.insert(2,proc_tiffpath.joinpath(f'Point{pointNum}{process_suffix}{isobar_suffix}.tiff'))\n",
    "                make_fig(tiffs2,slide_names[slide_n],pointNum,channel,titles2)\n",
    "            #break #debug\n",
    "            '''\n",
    "            #break #debug\n",
    "            \n",
    "        #break #debug\n",
    "    #break #debug"
   ]
  },
  {
   "cell_type": "code",
   "execution_count": null,
   "metadata": {},
   "outputs": [],
   "source": []
  }
 ],
 "metadata": {
  "kernelspec": {
   "display_name": "Python 3",
   "language": "python",
   "name": "python3"
  },
  "language_info": {
   "codemirror_mode": {
    "name": "ipython",
    "version": 3
   },
   "file_extension": ".py",
   "mimetype": "text/x-python",
   "name": "python",
   "nbconvert_exporter": "python",
   "pygments_lexer": "ipython3",
   "version": "3.7.3"
  }
 },
 "nbformat": 4,
 "nbformat_minor": 4
}
